{
  "nbformat": 4,
  "nbformat_minor": 0,
  "metadata": {
    "colab": {
      "provenance": []
    },
    "kernelspec": {
      "name": "python3",
      "display_name": "Python 3"
    },
    "language_info": {
      "name": "python"
    }
  },
  "cells": [
    {
      "cell_type": "markdown",
      "source": [
        "1. What are data structures, and why are they important"
      ],
      "metadata": {
        "id": "SpK5p_I-98-X"
      }
    },
    {
      "cell_type": "markdown",
      "source": [
        "- Data structures are specialized ways to organize and store data in a computer so it can be used efficiently. They're important because they directly impact a program's performance (how fast it runs) and efficiency (how much memory it uses). Choosing the right data structure can make the difference between a program that runs quickly and one that grinds to a halt."
      ],
      "metadata": {
        "id": "wV4N9BCK-Mh4"
      }
    },
    {
      "cell_type": "markdown",
      "source": [
        "2. Explain the difference between mutable and immutable data types with examples"
      ],
      "metadata": {
        "id": "B3MycZsBDMi6"
      }
    },
    {
      "cell_type": "markdown",
      "source": [
        "- Mutable\n",
        "You can modify mutable objects in place without creating a new object. Changes made to a mutable object will be reflected wherever that object is referenced.\n",
        "\n",
        "Examples:"
      ],
      "metadata": {
        "id": "yl5qBgJMDPi0"
      }
    },
    {
      "cell_type": "code",
      "source": [
        "my_list = [1, 2, 3]\n",
        "my_list.append(4)\n",
        "print(my_list) # Output: [1, 2, 3, 4] (original list changed)"
      ],
      "metadata": {
        "id": "qQ8-h-HaDfs5"
      },
      "execution_count": null,
      "outputs": []
    },
    {
      "cell_type": "markdown",
      "source": [
        "Immutable\n",
        "Once an immutable object is created, its content cannot be altered. If you perform an operation that seems to change an immutable object, you're actually creating a new object with the desired changes.\n",
        "\n",
        "Examples:"
      ],
      "metadata": {
        "id": "mWF6Z8AXDidk"
      }
    },
    {
      "cell_type": "code",
      "source": [
        "my_int = 5\n",
        "my_int = my_int + 1 # This creates a new integer object for 6, doesn't change 5\n",
        "print(my_int) # Output: 6"
      ],
      "metadata": {
        "id": "GxQzoaGVDvRn"
      },
      "execution_count": null,
      "outputs": []
    },
    {
      "cell_type": "markdown",
      "source": [
        "3. What are the main differences between lists and tuples in Python"
      ],
      "metadata": {
        "id": "bM0elUJED33M"
      }
    },
    {
      "cell_type": "markdown",
      "source": [
        "- Lists are mutable; you can change their contents (add, remove, or modify elements) after creation. Tuples are immutable; once created, you can't change their contents."
      ],
      "metadata": {
        "id": "QFOEhETTD7QC"
      }
    },
    {
      "cell_type": "markdown",
      "source": [
        "4. Describe how dictionaries store dataP"
      ],
      "metadata": {
        "id": "4zKxNvPTEIga"
      }
    },
    {
      "cell_type": "markdown",
      "source": [
        "- Dictionaries store data as unordered collections of key-value pairs.\n",
        "\n",
        "Key-Value Pairs\n",
        "Each item in a dictionary consists of a key and its associated value.\n",
        "\n",
        "Keys must be unique and immutable (like strings, numbers, or tuples). They act like labels or identifiers, allowing you to quickly look up values.\n",
        "\n",
        "\n",
        "Values can be any Python object (mutable or immutable), including other dictionaries, lists, or functions."
      ],
      "metadata": {
        "id": "DLVNzrboEMfO"
      }
    },
    {
      "cell_type": "markdown",
      "source": [
        "5.  Why might you use a set instead of a list in Python"
      ],
      "metadata": {
        "id": "w6LOmcPiEa_Q"
      }
    },
    {
      "cell_type": "markdown",
      "source": [
        "- Uniqueness is required: Sets automatically store only unique elements.\n",
        "\n",
        "Fast membership testing: Checking if an item is in a set is generally much faster than in a list.\n",
        "\n",
        "Order doesn't matter: Sets are unordered collections.\n",
        "\n",
        "Set operations: You need to perform mathematical set operations (like union, intersection, etc.)."
      ],
      "metadata": {
        "id": "FABOl0hPEe3F"
      }
    },
    {
      "cell_type": "markdown",
      "source": [
        "6.  What is a string in Python, and how is it different from a list"
      ],
      "metadata": {
        "id": "M_AgOc-lE1TG"
      }
    },
    {
      "cell_type": "markdown",
      "source": [
        "- A string in Python is a sequence of characters, used for text. A list is an ordered, changeable collection of items (which can be of any data type). 📝\n",
        "\n",
        "Key Differences\n",
        "Content:\n",
        "\n",
        "Strings hold only characters (text).\n",
        "\n",
        "Lists can hold any type of data (numbers, strings, other lists, etc.).\n",
        "\n",
        "Mutability:\n",
        "\n",
        "Strings are immutable: Once created, you can't change individual characters within a string. Any operation that seems to modify a string actually creates a new one.\n",
        "\n",
        "Lists are mutable: You can add, remove, or change elements in a list after it's created.\n",
        "\n",
        "Syntax:\n",
        "\n",
        "Strings are enclosed in quotes ('hello' or \"world\").\n",
        "\n",
        "Lists are enclosed in square brackets ([1, 'a', True]).\n",
        "\n",
        "Purpose:\n",
        "\n",
        "Strings are for representing and manipulating text.\n",
        "\n",
        "Lists are for ordered collections of diverse items where elements might need to be added, removed, or changed."
      ],
      "metadata": {
        "id": "2cWDgq5TE5qL"
      }
    },
    {
      "cell_type": "markdown",
      "source": [
        "7. How do tuples ensure data integrity in Python"
      ],
      "metadata": {
        "id": "q6Y_t4EtFRYq"
      }
    },
    {
      "cell_type": "markdown",
      "source": [
        "- Tuples ensure data integrity in Python primarily through their immutability. This means that once a tuple is created, its contents cannot be changed, added to, or removed from. 🔒\n",
        "\n",
        "Why Immutability Matters for Integrity\n",
        "Prevents Accidental Modification: Since a tuple's elements can't be altered, there's no risk of inadvertently changing crucial data. When you pass a tuple around your program, you're guaranteed its contents will remain exactly as they were created.\n",
        "\n",
        "Consistent State: An immutable object like a tuple always stays in the state it was created, which is vital for maintaining data correctness and reliability.\n",
        "\n",
        "Hashability: Because they're immutable, tuples can be hashed. This allows them to be used as keys in dictionaries or elements in sets, enabling fast and reliable data lookups based on the tuple's exact content. If they were mutable, their hash value could change, breaking these lookup mechanisms.\n",
        "\n",
        "Simplified Concurrency: In multi-threaded programs, immutable objects are inherently safer. Multiple threads can read a tuple without the risk of one thread modifying it while another is reading, preventing common concurrency issues."
      ],
      "metadata": {
        "id": "pQkbNXMSFXDP"
      }
    },
    {
      "cell_type": "markdown",
      "source": [
        "8.  What is a hash table, and how does it relate to dictionaries in Python"
      ],
      "metadata": {
        "id": "1CqKfpJhFgFP"
      }
    },
    {
      "cell_type": "markdown",
      "source": [
        "A hash table is a data structure that stores information by mapping keys to values using a hash function. Python's dictionaries are implemented as hash tables.\n",
        "\n",
        "How It Works\n",
        "The hash function converts a key into a numerical code (hash value) that tells the table where to store or find the associated value. This makes lookups, additions, and deletions incredibly fast on average.\n",
        "\n",
        "Dictionaries and Hash Tables\n",
        "Keys Must Be Hashable: Because of how hash tables work, dictionary keys must be immutable (like numbers, strings, or tuples) so their hash value doesn't change after they're created.\n",
        "\n",
        "Fast Operations: The hash table implementation is why dictionaries provide very efficient average-case performance for finding, adding, and removing key-value pairs."
      ],
      "metadata": {
        "id": "6i8VkK7XFkE9"
      }
    },
    {
      "cell_type": "markdown",
      "source": [
        "9. Can lists contain different data types in Python"
      ],
      "metadata": {
        "id": "A3VcSFmjFsxT"
      }
    },
    {
      "cell_type": "markdown",
      "source": [
        "Yes, lists can contain different data types in Python"
      ],
      "metadata": {
        "id": "emSOK7b9FwP1"
      }
    },
    {
      "cell_type": "markdown",
      "source": [
        "10. Strings are immutable in Python because their content cannot be changed after they are created. Once a string object is made in memory, it's fixed.\n",
        "\n",
        "Why This Matters\n",
        "Performance: Immutability allows Python to optimize string operations and memory usage. For example, Python can safely cache and reuse string literals.\n",
        "\n",
        "Security & Integrity: It ensures that a string's value remains constant. If a string represents a filename, a password, or a URL, you can be sure it won't be accidentally altered by another part of your code.\n",
        "\n",
        "Hashability: Immutable objects can be hashed, which means they can be used as keys in dictionaries or as elements in sets. If strings were mutable, their hash value could change, breaking the efficiency of these data structures."
      ],
      "metadata": {
        "id": "T0FXH91IF2af"
      }
    },
    {
      "cell_type": "markdown",
      "source": [
        "11. What advantages do dictionaries offer over lists for certain tasks"
      ],
      "metadata": {
        "id": "wvza46H2GAjR"
      }
    },
    {
      "cell_type": "markdown",
      "source": [
        "- Dictionaries offer significant advantages over lists when you need to:\n",
        "\n",
        "Access data by a descriptive key (not just index): Dictionaries use unique, meaningful keys (like names or IDs) to retrieve values, making data access more intuitive and readable than numerical indices in lists.\n",
        "\n",
        "Perform fast lookups: Retrieving a value by its key in a dictionary is, on average, much faster (constant time) than searching for an item by its value in a list (linear time), especially for large datasets.\n",
        "\n",
        "Store associative data: They are ideal for representing relationships between pieces of data, like a person's name and their age, or a product and its price.\n",
        "\n",
        "Ensure unique identifiers: Dictionary keys must be unique, preventing duplicate entries for the same identifier."
      ],
      "metadata": {
        "id": "B0EJ5YgrozlT"
      }
    },
    {
      "cell_type": "markdown",
      "source": [
        "12. Describe a scenario where using a tuple would be preferable over a list"
      ],
      "metadata": {
        "id": "FIOSCNm_o6Pm"
      }
    },
    {
      "cell_type": "markdown",
      "source": [
        "- Immutability: A specific geographic coordinate is a fixed point; it shouldn't change. Using a tuple (latitude, longitude) guarantees that once this pair is defined, its individual values cannot be accidentally altered.\n",
        "\n",
        "Data Integrity: This immutability ensures the integrity of the coordinate data throughout your program. You can pass this tuple around, store it, or use it as a key in a dictionary (e.g., {(40.7128, -74.0060): \"New York City\"}), knowing its values will remain constant. A list, being mutable, could be inadvertently modified, leading to incorrect location data.\n",
        "\n",
        "Hashability: Because tuples are immutable, they are hashable. This means you can use them as keys in dictionaries or as elements in sets, which is not possible with mutable lists. This is incredibly useful for efficiently looking up information based on unique coordinate pairs.\n",
        "\n",
        "\n",
        "Using a list [40.7128, -74.0060] for coordinates would expose them to accidental modification (e.g., coords[0] = 0), which would be undesirable for fixed data like a location"
      ],
      "metadata": {
        "id": "iyCOgud0o_M4"
      }
    },
    {
      "cell_type": "markdown",
      "source": [
        "13. How do sets handle duplicate values in Python"
      ],
      "metadata": {
        "id": "RbMSVSgbpJZv"
      }
    },
    {
      "cell_type": "markdown",
      "source": [
        "- Sets in Python automatically store only one instance of each unique element, effectively discarding any duplicates without raising an error."
      ],
      "metadata": {
        "id": "CQDYWcXRpOCn"
      }
    },
    {
      "cell_type": "markdown",
      "source": [
        "14. How does the “in” keyword work differently for lists and dictionaries"
      ],
      "metadata": {
        "id": "6CrH7J9PpaJC"
      }
    },
    {
      "cell_type": "markdown",
      "source": [
        "- The in keyword checks for membership, but what it checks for differs:\n",
        "\n",
        "Lists: item in list checks if item is present as an element within the list. It iterates through the list.\n",
        "\n",
        "Dictionaries: key in dictionary checks if key is present as a key in the dictionary. It does not check for values. This check is very fast due to hashing.\n",
        "\n",
        "In short: in checks for elements in lists and keys in dictionaries."
      ],
      "metadata": {
        "id": "f4jQcnvopeMI"
      }
    },
    {
      "cell_type": "markdown",
      "source": [
        "15. Can you modify the elements of a tuple? Explain why or why not"
      ],
      "metadata": {
        "id": "fHKzIVCmpjA2"
      }
    },
    {
      "cell_type": "markdown",
      "source": [
        "No, you cannot modify the elements of a tuple after it has been created.\n",
        "\n",
        "This is because tuples are immutable data types in Python. Once a tuple object is defined in memory, its contents (the elements it holds) and its size are fixed and cannot be altered. Any operation that appears to \"modify\" a tuple, such as concatenation, actually results in the creation of a new tuple object."
      ],
      "metadata": {
        "id": "igAOO8yfpoxM"
      }
    },
    {
      "cell_type": "markdown",
      "source": [
        "16. What is a nested dictionary, and give an example of its use case"
      ],
      "metadata": {
        "id": "yjli2oigpu9A"
      }
    },
    {
      "cell_type": "markdown",
      "source": [
        "- A nested dictionary is a dictionary where one or more values are themselves other dictionaries, allowing for hierarchical data storage.\n",
        "\n",
        "Use Case Example: Storing user profiles with contact details."
      ],
      "metadata": {
        "id": "jMA8Bfnspz27"
      }
    },
    {
      "cell_type": "code",
      "source": [
        "user_profiles = {\n",
        "    \"john_doe\": {\n",
        "        \"email\": \"john@example.com\",\n",
        "        \"phone\": \"123-456-7890\"\n",
        "    },\n",
        "    \"jane_smith\": {\n",
        "        \"email\": \"jane@example.com\",\n",
        "        \"phone\": \"987-654-3210\"\n",
        "    }\n",
        "}"
      ],
      "metadata": {
        "id": "8OOlTUbJp8nH"
      },
      "execution_count": 1,
      "outputs": []
    },
    {
      "cell_type": "markdown",
      "source": [
        "17. Describe the time complexity of accessing elements in a dictionary"
      ],
      "metadata": {
        "id": "HsF4UgtgqB0g"
      }
    },
    {
      "cell_type": "markdown",
      "source": [
        "Accessing elements in a dictionary (by key) has an average time complexity of O(1) (constant time). This means the time taken to retrieve an element is generally the same, regardless of the dictionary's size. In the worst-case scenario (due to many hash collisions), it can degrade to O(n) (linear time), but this is rare with good hash functions."
      ],
      "metadata": {
        "id": "JPNQl7elqFHi"
      }
    },
    {
      "cell_type": "markdown",
      "source": [
        "18. In what situations are lists preferred over dictionaries"
      ],
      "metadata": {
        "id": "DWq0he38qKBe"
      }
    },
    {
      "cell_type": "markdown",
      "source": [
        "- Lists are preferred over dictionaries when:\n",
        "\n",
        "Order matters: You need to maintain the sequence of items.\n",
        "\n",
        "Access by index: You primarily access items by their position.\n",
        "\n",
        "Duplicate items are allowed/needed: You want to store multiple identical items.\n",
        "\n",
        "Simple linear collections: You just need a straightforward sequence of items without key-value associations."
      ],
      "metadata": {
        "id": "fW3JVRjwqOb3"
      }
    },
    {
      "cell_type": "markdown",
      "source": [
        "19.  Why are dictionaries considered unordered, and how does that affect data retrieval"
      ],
      "metadata": {
        "id": "-LiV6Y52qVfj"
      }
    },
    {
      "cell_type": "markdown",
      "source": [
        "- Dictionaries were traditionally considered unordered because their internal hash table structure didn't guarantee insertion order. However, since Python 3.7, dictionaries officially maintain insertion order.\n",
        "\n",
        "So, for data retrieval:\n",
        "\n",
        "Access by Key: Retrieving data by key is still very fast (O(1) on average) because it uses hashing, regardless of the order.\n",
        "\n",
        "Iteration Order: When iterating through a dictionary, the elements will now appear in the order they were inserted.\n",
        "\n",
        "In short, while the underlying mechanism is hash-based (which doesn't inherently imply order), modern Python dictionaries (3.7+) do preserve insertion order for iteration, but the primary method of data retrieval is still by fast key lookup."
      ],
      "metadata": {
        "id": "owEeYYShqaG-"
      }
    },
    {
      "cell_type": "markdown",
      "source": [
        "20. Explain the difference between a list and a dictionary in terms of data retrieval."
      ],
      "metadata": {
        "id": "GZNTTEvSqgXg"
      }
    },
    {
      "cell_type": "markdown",
      "source": [
        "- Lists retrieve data by numerical index (position), requiring a sequential scan for values if the index isn't known. Dictionaries retrieve data by unique, descriptive keys using fast hash-based lookups, making access very efficient regardless of size."
      ],
      "metadata": {
        "id": "0386BqFUqkW2"
      }
    },
    {
      "cell_type": "markdown",
      "source": [
        "### **Practical** **Questions**"
      ],
      "metadata": {
        "id": "30i5-kVCeH8k"
      }
    },
    {
      "cell_type": "markdown",
      "source": [
        "1. Write a code to create a string with your name and print it"
      ],
      "metadata": {
        "id": "7CTQqpQAebHj"
      }
    },
    {
      "cell_type": "code",
      "source": [
        "Name = \"Pratiksha_Dwivedi\"\n",
        "print(Name)"
      ],
      "metadata": {
        "colab": {
          "base_uri": "https://localhost:8080/"
        },
        "id": "Crw6DzVJeeQ3",
        "outputId": "9838e7e9-13b1-452e-b543-9ac4ac25f089"
      },
      "execution_count": 2,
      "outputs": [
        {
          "output_type": "stream",
          "name": "stdout",
          "text": [
            "Pratiksha_Dwivedi\n"
          ]
        }
      ]
    },
    {
      "cell_type": "markdown",
      "source": [
        "2. Write a code to find the length of the string \"Hello World\""
      ],
      "metadata": {
        "id": "QW4Jx7b0e8dS"
      }
    },
    {
      "cell_type": "code",
      "source": [
        "len(\"Hello World\")"
      ],
      "metadata": {
        "colab": {
          "base_uri": "https://localhost:8080/"
        },
        "id": "yvFXcPF5fEkR",
        "outputId": "4aea9c8a-3b5a-4eef-9aad-74a020955c14"
      },
      "execution_count": 3,
      "outputs": [
        {
          "output_type": "execute_result",
          "data": {
            "text/plain": [
              "11"
            ]
          },
          "metadata": {},
          "execution_count": 3
        }
      ]
    },
    {
      "cell_type": "markdown",
      "source": [
        "3. Write a code to slice the first 3 characters from the string \"Python Programming\""
      ],
      "metadata": {
        "id": "92y_VdJefPRH"
      }
    },
    {
      "cell_type": "code",
      "source": [
        "Course = \"Python Programming\"\n",
        "Course[0:3]"
      ],
      "metadata": {
        "colab": {
          "base_uri": "https://localhost:8080/",
          "height": 36
        },
        "id": "ktMmb1ESfSYl",
        "outputId": "65db4525-c608-4458-8fcc-a2b72b75a4f8"
      },
      "execution_count": 4,
      "outputs": [
        {
          "output_type": "execute_result",
          "data": {
            "text/plain": [
              "'Pyt'"
            ],
            "application/vnd.google.colaboratory.intrinsic+json": {
              "type": "string"
            }
          },
          "metadata": {},
          "execution_count": 4
        }
      ]
    },
    {
      "cell_type": "markdown",
      "source": [
        "4. Write a code to convert the string \"hello\" to uppercase"
      ],
      "metadata": {
        "id": "1BXC_t0vf5IZ"
      }
    },
    {
      "cell_type": "code",
      "source": [
        "greeting = \"hello\"\n",
        "print(greeting.upper())\n"
      ],
      "metadata": {
        "colab": {
          "base_uri": "https://localhost:8080/"
        },
        "id": "7qAj6N8af7GK",
        "outputId": "6489a925-5646-4035-99b6-523684e7df6c"
      },
      "execution_count": 19,
      "outputs": [
        {
          "output_type": "stream",
          "name": "stdout",
          "text": [
            "HELLO\n"
          ]
        }
      ]
    },
    {
      "cell_type": "markdown",
      "source": [
        "5. Write a code to replace the word \"apple\" with \"orange\" in the string \"I like apple\""
      ],
      "metadata": {
        "id": "1BzGid0kheiW"
      }
    },
    {
      "cell_type": "code",
      "source": [
        "Choice = \"I like apple\"\n",
        "new_choice = Choice.replace(\"apple\", \"orange\")\n",
        "print(new_choice)"
      ],
      "metadata": {
        "colab": {
          "base_uri": "https://localhost:8080/"
        },
        "id": "K-Uk7Qjmhh80",
        "outputId": "5b5e2c49-1732-4fab-f927-b869c9f60a12"
      },
      "execution_count": 31,
      "outputs": [
        {
          "output_type": "stream",
          "name": "stdout",
          "text": [
            "I like orange\n"
          ]
        }
      ]
    },
    {
      "cell_type": "markdown",
      "source": [
        "6. Write a code to create a list with numbers 1 to 5 and print it"
      ],
      "metadata": {
        "id": "CZn6xYbbt0u1"
      }
    },
    {
      "cell_type": "code",
      "source": [
        "list = [1, 2, 3, 4, 5]\n",
        "print(list)"
      ],
      "metadata": {
        "colab": {
          "base_uri": "https://localhost:8080/"
        },
        "id": "euYfV1LfuptA",
        "outputId": "34829ca3-857e-4b3d-a233-4d2dde7b9c1c"
      },
      "execution_count": 33,
      "outputs": [
        {
          "output_type": "stream",
          "name": "stdout",
          "text": [
            "[1, 2, 3, 4, 5]\n"
          ]
        }
      ]
    },
    {
      "cell_type": "markdown",
      "source": [
        "7. Write a code to append the number 10 to the list [1, 2, 3, 4]"
      ],
      "metadata": {
        "id": "1_8mb6jqu6wl"
      }
    },
    {
      "cell_type": "code",
      "source": [
        "list1 = [1, 2, 3, 4]\n",
        "list1.append(10)\n",
        "print(list1)"
      ],
      "metadata": {
        "colab": {
          "base_uri": "https://localhost:8080/"
        },
        "id": "Jg1rOLpfvER0",
        "outputId": "12722014-7958-41a0-fd4a-af2e4da627de"
      },
      "execution_count": 39,
      "outputs": [
        {
          "output_type": "stream",
          "name": "stdout",
          "text": [
            "[1, 2, 3, 4, 10]\n"
          ]
        }
      ]
    },
    {
      "cell_type": "markdown",
      "source": [
        "8.  Write a code to remove the number 3 from the list [1, 2, 3, 4, 5]"
      ],
      "metadata": {
        "id": "8GZoiFg-wR-A"
      }
    },
    {
      "cell_type": "code",
      "source": [
        "list = [1, 2, 3, 4, 5]\n",
        "list.remove(3)\n",
        "print(list)"
      ],
      "metadata": {
        "colab": {
          "base_uri": "https://localhost:8080/"
        },
        "id": "7yQacROkwXqD",
        "outputId": "0de7f3f3-b845-4584-8ced-910066550b8b"
      },
      "execution_count": 40,
      "outputs": [
        {
          "output_type": "stream",
          "name": "stdout",
          "text": [
            "[1, 2, 4, 5]\n"
          ]
        }
      ]
    },
    {
      "cell_type": "markdown",
      "source": [
        "9. Write a code to access the second element in the list ['a', 'b', 'c', 'd']"
      ],
      "metadata": {
        "id": "7LOjyBvew_Dz"
      }
    },
    {
      "cell_type": "code",
      "source": [
        "list = [\"a\", \"b\", \"c\", \"d\"]\n",
        "list[1]"
      ],
      "metadata": {
        "colab": {
          "base_uri": "https://localhost:8080/",
          "height": 36
        },
        "id": "q-6RFi0DxGu5",
        "outputId": "fa825e02-d5af-4d47-a15d-d24c6e6898cf"
      },
      "execution_count": 41,
      "outputs": [
        {
          "output_type": "execute_result",
          "data": {
            "text/plain": [
              "'b'"
            ],
            "application/vnd.google.colaboratory.intrinsic+json": {
              "type": "string"
            }
          },
          "metadata": {},
          "execution_count": 41
        }
      ]
    },
    {
      "cell_type": "markdown",
      "source": [
        "10. Write a code to reverse the list [10, 20, 30, 40, 50]"
      ],
      "metadata": {
        "id": "00NN5EsyxjvU"
      }
    },
    {
      "cell_type": "code",
      "source": [
        "list = [10, 20, 30, 40, 50]\n",
        "list.reverse()\n",
        "print(list)"
      ],
      "metadata": {
        "colab": {
          "base_uri": "https://localhost:8080/"
        },
        "id": "lFEZJruwxnPg",
        "outputId": "d5f98cbf-c0b6-4855-87ed-da161d5904c1"
      },
      "execution_count": 43,
      "outputs": [
        {
          "output_type": "stream",
          "name": "stdout",
          "text": [
            "[50, 40, 30, 20, 10]\n"
          ]
        }
      ]
    },
    {
      "cell_type": "markdown",
      "source": [
        "11. Write a code to create a tuple with the elements 100, 200, 300 and print it"
      ],
      "metadata": {
        "id": "dsyHbus1x_C2"
      }
    },
    {
      "cell_type": "code",
      "source": [
        "tuple = (100, 200, 300)\n",
        "print(type(tuple))\n"
      ],
      "metadata": {
        "colab": {
          "base_uri": "https://localhost:8080/"
        },
        "id": "_95LAGXfyG3V",
        "outputId": "995ae17a-e73d-42ca-a7d8-05d11dba8874"
      },
      "execution_count": 46,
      "outputs": [
        {
          "output_type": "stream",
          "name": "stdout",
          "text": [
            "<class 'tuple'>\n"
          ]
        }
      ]
    },
    {
      "cell_type": "markdown",
      "source": [
        "12. Write a code to access the second-to-last element of the tuple ('red', 'green', 'blue', 'yellow')"
      ],
      "metadata": {
        "id": "_pIaDQ6PycEz"
      }
    },
    {
      "cell_type": "code",
      "source": [
        "tuple = ('red', 'green', 'blue', 'yellow')\n",
        "print(tuple[1:4])"
      ],
      "metadata": {
        "colab": {
          "base_uri": "https://localhost:8080/"
        },
        "id": "KNrpEJMoyh1T",
        "outputId": "80b393b1-06f2-44f5-c229-72d161346003"
      },
      "execution_count": 52,
      "outputs": [
        {
          "output_type": "stream",
          "name": "stdout",
          "text": [
            "('green', 'blue', 'yellow')\n"
          ]
        }
      ]
    },
    {
      "cell_type": "markdown",
      "source": [
        "13. Write a code to find the minimum number in the tuple (10, 20, 5, 15)"
      ],
      "metadata": {
        "id": "0jifCocXzOhQ"
      }
    },
    {
      "cell_type": "code",
      "source": [
        "tuple =  (10, 20, 5, 15)\n",
        "new_tuple = min(tuple)\n",
        "print(new_tuple)"
      ],
      "metadata": {
        "colab": {
          "base_uri": "https://localhost:8080/"
        },
        "id": "E8adooKlzSr6",
        "outputId": "f419ac7d-1387-4538-8e06-61c0c0dd53a5"
      },
      "execution_count": 54,
      "outputs": [
        {
          "output_type": "stream",
          "name": "stdout",
          "text": [
            "5\n"
          ]
        }
      ]
    },
    {
      "cell_type": "markdown",
      "source": [
        "14. Write a code to find the index of the element \"cat\" in the tuple ('dog', 'cat', 'rabbit')"
      ],
      "metadata": {
        "id": "h9SWqAJo0Sva"
      }
    },
    {
      "cell_type": "code",
      "source": [
        "tuple = ('dog', 'cat', 'rabbit')\n",
        "new_tuple = tuple.index(\"cat\")\n",
        "print(new_tuple)"
      ],
      "metadata": {
        "colab": {
          "base_uri": "https://localhost:8080/"
        },
        "id": "rbfNX0x40fX9",
        "outputId": "1147a554-c0db-4fd2-9ea1-7e53c32d7e0c"
      },
      "execution_count": 55,
      "outputs": [
        {
          "output_type": "stream",
          "name": "stdout",
          "text": [
            "1\n"
          ]
        }
      ]
    },
    {
      "cell_type": "markdown",
      "source": [
        "15. Write a code to create a tuple containing three different fruits and check if \"kiwi\" is in it"
      ],
      "metadata": {
        "id": "WtsSeuiR1Mq_"
      }
    },
    {
      "cell_type": "code",
      "source": [
        "tuple = (\"apple\", \"banana\", \"kiwi\")\n",
        "if \"kiwi\" in tuple:\n",
        "  print(\"yes, kiwi is present\")"
      ],
      "metadata": {
        "colab": {
          "base_uri": "https://localhost:8080/"
        },
        "id": "JXOULj9h1VHE",
        "outputId": "a4ecfba1-13f6-4aa5-9cae-a6c9a29294e3"
      },
      "execution_count": 56,
      "outputs": [
        {
          "output_type": "stream",
          "name": "stdout",
          "text": [
            "yes, kiwi is present\n"
          ]
        }
      ]
    },
    {
      "cell_type": "code",
      "source": [
        "fruits = (\"apple\", \"banana\", \"orange\")\n",
        "print(\"kiwi\" in fruits)"
      ],
      "metadata": {
        "colab": {
          "base_uri": "https://localhost:8080/"
        },
        "id": "ZDul0_Yj2lZi",
        "outputId": "d30d674c-fc23-469c-a6af-259ce24068a7"
      },
      "execution_count": 57,
      "outputs": [
        {
          "output_type": "stream",
          "name": "stdout",
          "text": [
            "False\n"
          ]
        }
      ]
    },
    {
      "cell_type": "markdown",
      "source": [
        "16.  Write a code to create a set with the elements 'a', 'b', 'c' and print it"
      ],
      "metadata": {
        "id": "p87b9QTK2N4L"
      }
    },
    {
      "cell_type": "code",
      "source": [
        "set = {'a', 'b', 'c' }\n",
        "print(type(set))"
      ],
      "metadata": {
        "colab": {
          "base_uri": "https://localhost:8080/"
        },
        "id": "DGgUUH-62v43",
        "outputId": "f379a6a0-45ed-4251-a1a8-5fc0f6655866"
      },
      "execution_count": 58,
      "outputs": [
        {
          "output_type": "stream",
          "name": "stdout",
          "text": [
            "<class 'set'>\n"
          ]
        }
      ]
    },
    {
      "cell_type": "markdown",
      "source": [
        "17. . Write a code to clear all elements from the set {1, 2, 3, 4, 5}."
      ],
      "metadata": {
        "id": "-HCXu4Ij3KRm"
      }
    },
    {
      "cell_type": "code",
      "source": [
        "set = {1, 2, 3, 4, 5}\n",
        "set.clear()\n",
        "print(set)"
      ],
      "metadata": {
        "colab": {
          "base_uri": "https://localhost:8080/"
        },
        "id": "8Z9m-j_i3RWr",
        "outputId": "2006654c-a3ee-48ae-a5c0-f092fde9e046"
      },
      "execution_count": 61,
      "outputs": [
        {
          "output_type": "stream",
          "name": "stdout",
          "text": [
            "set()\n"
          ]
        }
      ]
    },
    {
      "cell_type": "markdown",
      "source": [
        "18. Write a code to remove the element 4 from the set {1, 2, 3, 4}"
      ],
      "metadata": {
        "id": "LZtyJ91B391L"
      }
    },
    {
      "cell_type": "code",
      "source": [
        " set =  {1, 2, 3, 4}\n",
        " set.remove(4)\n",
        " print(set)"
      ],
      "metadata": {
        "colab": {
          "base_uri": "https://localhost:8080/"
        },
        "id": "ggubmVxB4HUc",
        "outputId": "a8795c69-4678-41d4-d85e-4ab19961b722"
      },
      "execution_count": 64,
      "outputs": [
        {
          "output_type": "stream",
          "name": "stdout",
          "text": [
            "{1, 2, 3}\n"
          ]
        }
      ]
    },
    {
      "cell_type": "markdown",
      "source": [
        "19. Write a code to find the union of two sets {1, 2, 3} and {3, 4, 5}."
      ],
      "metadata": {
        "id": "UTeYWxpc5cfV"
      }
    },
    {
      "cell_type": "code",
      "source": [
        "set =  {1, 2, 3}\n",
        "set1 = {3, 4, 5}\n",
        "set.union(set1)"
      ],
      "metadata": {
        "colab": {
          "base_uri": "https://localhost:8080/"
        },
        "id": "na6KJRBi371l",
        "outputId": "e921bec8-3365-48d0-c1d4-f201cb86b771"
      },
      "execution_count": 65,
      "outputs": [
        {
          "output_type": "execute_result",
          "data": {
            "text/plain": [
              "{1, 2, 3, 4, 5}"
            ]
          },
          "metadata": {},
          "execution_count": 65
        }
      ]
    },
    {
      "cell_type": "markdown",
      "source": [
        "20. Write a code to find the intersection of two sets {1, 2, 3} and {2, 3, 4}"
      ],
      "metadata": {
        "id": "bhCoUyCA37K_"
      }
    },
    {
      "cell_type": "code",
      "source": [
        "set = {1, 2, 3}\n",
        "set1 = {2, 3, 4}\n",
        "set.intersection(set1)"
      ],
      "metadata": {
        "colab": {
          "base_uri": "https://localhost:8080/"
        },
        "id": "oFW6rnSa6FuG",
        "outputId": "d529a3b3-9fd9-47a6-f260-cba272d3c3e0"
      },
      "execution_count": 67,
      "outputs": [
        {
          "output_type": "execute_result",
          "data": {
            "text/plain": [
              "{2, 3}"
            ]
          },
          "metadata": {},
          "execution_count": 67
        }
      ]
    },
    {
      "cell_type": "markdown",
      "source": [
        "21. Write a code to create a dictionary with the keys \"name\", \"age\", and \"city\", and print it"
      ],
      "metadata": {
        "id": "ILYB-4Xn6huR"
      }
    },
    {
      "cell_type": "code",
      "source": [
        "dict = {\"name\" : \"pratiksha\", \"age\" : \"24\", \"city\" : \"gurgaon\"}\n",
        "print(dict)"
      ],
      "metadata": {
        "colab": {
          "base_uri": "https://localhost:8080/"
        },
        "id": "9G8KKTuJ6qLi",
        "outputId": "b7092c16-bfd6-4843-83e9-2808cbf94140"
      },
      "execution_count": 69,
      "outputs": [
        {
          "output_type": "stream",
          "name": "stdout",
          "text": [
            "{'name': 'pratiksha', 'age': '24', 'city': 'gurgaon'}\n"
          ]
        }
      ]
    },
    {
      "cell_type": "markdown",
      "source": [
        "Write a code to add a new key-value pair \"country\": \"USA\" to the dictionary {'name': 'John', 'age': 25}"
      ],
      "metadata": {
        "id": "HejSlmlf7Ibj"
      }
    },
    {
      "cell_type": "code",
      "source": [
        "info = {'name': 'John', 'age': 25}\n",
        "info[\"country\"] = \"usa\"\n",
        "print(info)\n"
      ],
      "metadata": {
        "colab": {
          "base_uri": "https://localhost:8080/"
        },
        "id": "odfISylP7EoF",
        "outputId": "2713c7d5-dcb0-4a85-b5db-cd842e0151de"
      },
      "execution_count": 86,
      "outputs": [
        {
          "output_type": "stream",
          "name": "stdout",
          "text": [
            "{'name': 'John', 'age': 25, 'country': 'usa'}\n"
          ]
        }
      ]
    },
    {
      "cell_type": "markdown",
      "source": [
        "23. Write a code to access the value associated with the key \"name\" in the dictionary {'name': 'Alice', 'age': 30}."
      ],
      "metadata": {
        "id": "7xbn7U8c_6MH"
      }
    },
    {
      "cell_type": "code",
      "source": [
        "info =  {'name': 'Alice', 'age': 30}\n",
        "print(info[\"name\"])"
      ],
      "metadata": {
        "colab": {
          "base_uri": "https://localhost:8080/"
        },
        "id": "owlgxTtJ9QRy",
        "outputId": "0ea7df43-34af-42ff-c53f-7dc0630f3da2"
      },
      "execution_count": 8,
      "outputs": [
        {
          "output_type": "stream",
          "name": "stdout",
          "text": [
            "Alice\n"
          ]
        }
      ]
    },
    {
      "cell_type": "markdown",
      "source": [
        "24. Write a code to remove the key \"age\" from the dictionary {'name': 'Bob', 'age': 22, 'city': 'New York'}"
      ],
      "metadata": {
        "id": "nfQIInGa4RMy"
      }
    },
    {
      "cell_type": "code",
      "source": [
        "\n",
        "info = {'name': 'Bob', 'age': 22, 'city': 'New York'}\n",
        "del info['age']\n",
        "print(info)\n"
      ],
      "metadata": {
        "colab": {
          "base_uri": "https://localhost:8080/"
        },
        "id": "SkhuPnyh4X-n",
        "outputId": "a070afb4-2945-4c87-cd7f-580f88f2aa9a"
      },
      "execution_count": 13,
      "outputs": [
        {
          "output_type": "stream",
          "name": "stdout",
          "text": [
            "{'name': 'Bob', 'city': 'New York'}\n"
          ]
        }
      ]
    },
    {
      "cell_type": "markdown",
      "source": [
        "25. Write a code to check if the key \"city\" exists in the dictionary {'name': 'Alice', 'city': 'Paris'}."
      ],
      "metadata": {
        "id": "qgiofzbh4-VU"
      }
    },
    {
      "cell_type": "code",
      "source": [
        "my_dict = {'name': 'Alice', 'city': 'Paris'}\n",
        "\n",
        "if \"city\" in my_dict:\n",
        "    print(\"The key 'city' exists in the dictionary.\")\n",
        "else:\n",
        "    print(\"The key 'city' does not exist in the dictionary.\")"
      ],
      "metadata": {
        "colab": {
          "base_uri": "https://localhost:8080/"
        },
        "id": "VfoW23qj5Rm5",
        "outputId": "cfae293b-f00c-4865-a74c-97089484ee83"
      },
      "execution_count": 17,
      "outputs": [
        {
          "output_type": "stream",
          "name": "stdout",
          "text": [
            "The key 'city' exists in the dictionary.\n"
          ]
        }
      ]
    },
    {
      "cell_type": "markdown",
      "source": [
        "26. Write a code to create a list, a tuple, and a dictionary, and print them all."
      ],
      "metadata": {
        "id": "YgvbVNqt5pJ6"
      }
    },
    {
      "cell_type": "code",
      "source": [
        "my_list = [1, 2, 3, 4]\n",
        "my_tuple = (1, 2, 3, 4)\n",
        "my_dict = {\"name\" : \"yashi\", \"age\" : 24}\n",
        "print(my_list, my_tuple, my_dict)"
      ],
      "metadata": {
        "colab": {
          "base_uri": "https://localhost:8080/"
        },
        "id": "MSA8lFi-5nNz",
        "outputId": "7669788e-0373-4459-dd37-4777eb4e84e5"
      },
      "execution_count": 22,
      "outputs": [
        {
          "output_type": "stream",
          "name": "stdout",
          "text": [
            "[1, 2, 3, 4] (1, 2, 3, 4) {'name': 'yashi', 'age': 24}\n"
          ]
        }
      ]
    },
    {
      "cell_type": "markdown",
      "source": [
        "27.  Write a code to create a list of 5 random numbers between 1 and 100, sort it in ascending order, and print the\n",
        "result.(replaced)"
      ],
      "metadata": {
        "id": "jVuTRcep6iKl"
      }
    },
    {
      "cell_type": "code",
      "source": [
        "my_list = [10, 20, 30, 40, 50]\n",
        "my_list.sort()\n",
        "print(my_list)"
      ],
      "metadata": {
        "colab": {
          "base_uri": "https://localhost:8080/"
        },
        "id": "fCEGc94A6Geg",
        "outputId": "ba5f1d71-6b4a-4dda-8ddb-a830b1f838b5"
      },
      "execution_count": 25,
      "outputs": [
        {
          "output_type": "stream",
          "name": "stdout",
          "text": [
            "[10, 20, 30, 40, 50]\n"
          ]
        }
      ]
    },
    {
      "cell_type": "markdown",
      "source": [
        "28. Write a code to create a list with strings and print the element at the third index."
      ],
      "metadata": {
        "id": "Bz-h2ody6ox9"
      }
    },
    {
      "cell_type": "code",
      "source": [
        "my_list = [\"pari\", \"anjit\", \"priyanka\", \"sakku\"]\n",
        "my_list[2]"
      ],
      "metadata": {
        "colab": {
          "base_uri": "https://localhost:8080/",
          "height": 36
        },
        "id": "sbEJOxKE6nZB",
        "outputId": "35c1ac16-98d4-429b-d3ce-c527cf80c8d9"
      },
      "execution_count": 28,
      "outputs": [
        {
          "output_type": "execute_result",
          "data": {
            "text/plain": [
              "'priyanka'"
            ],
            "application/vnd.google.colaboratory.intrinsic+json": {
              "type": "string"
            }
          },
          "metadata": {},
          "execution_count": 28
        }
      ]
    },
    {
      "cell_type": "markdown",
      "source": [
        "29. Write a code to combine two dictionaries into one and print the result."
      ],
      "metadata": {
        "id": "tJISZgQv7y04"
      }
    },
    {
      "cell_type": "code",
      "source": [
        "dict1 = {\"name\" : \"pratiksha\", \"age\" : 24, \"hobby\" : \"dancing\"}\n",
        "dict2 = {\"rollno\" : 25, \"empid\" : 226, \"phn\" : 882}\n",
        "dict1.update(dict2)\n",
        "print(dict1)"
      ],
      "metadata": {
        "colab": {
          "base_uri": "https://localhost:8080/"
        },
        "id": "V8OK8aSx72p-",
        "outputId": "1eaccff8-c7fe-4a6f-a17a-e7ff276ea6a0"
      },
      "execution_count": 32,
      "outputs": [
        {
          "output_type": "stream",
          "name": "stdout",
          "text": [
            "{'name': 'pratiksha', 'age': 24, 'hobby': 'dancing', 'rollno': 25, 'empid': 226, 'phn': 882}\n"
          ]
        }
      ]
    },
    {
      "cell_type": "markdown",
      "source": [
        "30. Write a code to convert a list of strings into a set"
      ],
      "metadata": {
        "id": "p_kaULE-73Eg"
      }
    },
    {
      "cell_type": "code",
      "source": [
        "my_list = [\"pari\", \"anjit\", \"priyanka\", \"sakku\"]\n",
        "my_list = {\"pari\", \"anjit\", \"priyanka\", \"sakku\"}\n",
        "print(type(my_list))"
      ],
      "metadata": {
        "colab": {
          "base_uri": "https://localhost:8080/"
        },
        "id": "KW5M_8KF787K",
        "outputId": "8bd5292d-e13a-4857-eb9a-7302a0336ce1"
      },
      "execution_count": 33,
      "outputs": [
        {
          "output_type": "stream",
          "name": "stdout",
          "text": [
            "<class 'set'>\n"
          ]
        }
      ]
    },
    {
      "cell_type": "code",
      "source": [],
      "metadata": {
        "id": "2gavTwJk91gQ"
      },
      "execution_count": null,
      "outputs": []
    }
  ]
}